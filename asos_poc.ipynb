{
  "cells": [
    {
      "attachments": {},
      "cell_type": "markdown",
      "metadata": {
        "colab_type": "text",
        "id": "view-in-github"
      },
      "source": [
        "<a href=\"https://colab.research.google.com/github/Kaetherine/Bachelorarbeit/blob/main/asos_poc.ipynb\" target=\"_parent\"><img src=\"https://colab.research.google.com/assets/colab-badge.svg\" alt=\"Open In Colab\"/></a>"
      ]
    },
    {
      "cell_type": "code",
      "execution_count": 1,
      "metadata": {
        "id": "8vSu1KPbOCMq"
      },
      "outputs": [],
      "source": [
        "import requests\n",
        "import json"
      ]
    },
    {
      "cell_type": "code",
      "execution_count": 2,
      "metadata": {},
      "outputs": [],
      "source": [
        "items_url = 'https://www.asos.com/api/product/search/v2/categories/2623?offset=0&store=DE&lang=de-DE&currency=EUR&rowlength=3&channel=desktop-web&country=DE&keyStoreDataversion=ornjx7v-36&limit=72&attribute_1047=8416'"
      ]
    },
    {
      "cell_type": "code",
      "execution_count": 3,
      "metadata": {},
      "outputs": [],
      "source": [
        "def get_page(url):\n",
        "    '''function to get the content of a specific url'''\n",
        "    response = requests.get(url)\n",
        "    response = json.loads(response.text)\n",
        "    return response\n",
        "\n",
        "items = get_page(items_url)"
      ]
    },
    {
      "cell_type": "code",
      "execution_count": 7,
      "metadata": {},
      "outputs": [
        {
          "data": {
            "text/plain": [
              "[205000609,\n",
              " 205236073,\n",
              " 205143691,\n",
              " 204542587,\n",
              " 205143365,\n",
              " 204885337,\n",
              " 204301772,\n",
              " 205143685,\n",
              " 204900238,\n",
              " 204746054,\n",
              " 204958215,\n",
              " 204766891,\n",
              " 205206177,\n",
              " 204301911,\n",
              " 204874367,\n",
              " 204898491,\n",
              " 205072649,\n",
              " 205031851,\n",
              " 205000610,\n",
              " 204275005,\n",
              " 204069034,\n",
              " 204965986,\n",
              " 204301832,\n",
              " 205031712,\n",
              " 205031666,\n",
              " 205026810,\n",
              " 204779679,\n",
              " 204969573,\n",
              " 204479994,\n",
              " 204926170,\n",
              " 204542528,\n",
              " 204723125,\n",
              " 204542607,\n",
              " 204542568,\n",
              " 204915489,\n",
              " 204885403,\n",
              " 204704171,\n",
              " 204963916,\n",
              " 205028429,\n",
              " 204867563,\n",
              " 205173171,\n",
              " 204500266,\n",
              " 204906996,\n",
              " 204900258,\n",
              " 204952566,\n",
              " 204978272,\n",
              " 204866213,\n",
              " 204593211,\n",
              " 205206299,\n",
              " 204247069,\n",
              " 205173183,\n",
              " 205191504,\n",
              " 205191266,\n",
              " 204864069,\n",
              " 204864031,\n",
              " 205155846,\n",
              " 204676104,\n",
              " 204993583,\n",
              " 205105061,\n",
              " 204760630,\n",
              " 202844832,\n",
              " 204963870,\n",
              " 204889238,\n",
              " 205092064,\n",
              " 204993693,\n",
              " 205002136,\n",
              " 204637227,\n",
              " 204735581,\n",
              " 204723237,\n",
              " 205092973,\n",
              " 204864210,\n",
              " 204215860]"
            ]
          },
          "execution_count": 7,
          "metadata": {},
          "output_type": "execute_result"
        }
      ],
      "source": [
        "def get_dict_list_values(dict_list, k):\n",
        "    '''function to get values of given key of a list of dictionaries'''\n",
        "    values = [product[k] for product in dict_list]\n",
        "    return values\n",
        "\n",
        "products_ids = get_dict_list_values(items['products'], 'id')\n",
        "products_ids"
      ]
    },
    {
      "cell_type": "code",
      "execution_count": 10,
      "metadata": {},
      "outputs": [
        {
          "name": "stdout",
          "output_type": "stream",
          "text": [
            "{'searchTerm': '205000609', 'categoryName': None, 'itemCount': 1, 'redirectUrl': '', 'products': [{'id': 204174721, 'name': 'SIMMI London – Novalee – Filigrane Sandaletten in Gold', 'price': {'current': {'value': 33.99, 'text': '33,99 €'}, 'previous': {'value': None, 'text': ''}, 'rrp': {'value': None, 'text': ''}, 'isMarkedDown': False, 'isOutletPrice': False, 'currency': 'EUR'}, 'colour': 'GOLD\\xa0', 'colourWayId': 204174727, 'brandName': 'SIMMI Shoes', 'hasVariantColours': False, 'hasMultiplePrices': False, 'groupId': None, 'productCode': 125708564, 'productType': 'Product', 'url': 'simmi-shoes/simmi-london-novalee-filigrane-sandaletten-in-gold/prd/204174721?clr=gold&colourWayId=204174727', 'imageUrl': 'https://images.asos-media.com/products/simmi-london-novalee-filigrane-sandaletten-in-gold/204174721-1-gold', 'additionalImageUrls': ['https://images.asos-media.com/products/simmi-london-novalee-filigrane-sandaletten-in-gold/204174721-2', 'https://images.asos-media.com/products/simmi-london-novalee-filigrane-sandaletten-in-gold/204174721-3', 'https://images.asos-media.com/products/simmi-london-novalee-filigrane-sandaletten-in-gold/204174721-4'], 'videoUrl': None, 'showVideo': False, 'isSellingFast': False, 'sponsoredCampaignId': None, 'facetGroupings': [{'products': [{'productId': 204174721}, {'productId': 204174877}, {'productId': 204174921}, {'productId': 204174922}], 'type': 'SupplierColour'}], 'advertisement': None}], 'facets': [], 'diagnostics': {'requestId': '5c5ee27c-3868-4501-952d-c548c7b4724f', 'processingTime': 23, 'queryTime': 19, 'recommendationsEnabled': False, 'recommendationsAnalytics': {'personalisationStatus': 4, 'numberOfItems': 0, 'numberOfRecs': 0, 'personalisationType': '', 'experimentTrackerkey': None, 'items': []}, 'advertisementsEnabled': False, 'advertisementsAnalytics': {'status': 0, 'customerOptIn': False, 'numberOfItemsFromPartner': 0, 'items': [], 'itemsFromPartner': [], 'placementBeacons': None}}, 'searchPassMeta': {'isPartial': False, 'isSpellcheck': False, 'searchPass': [], 'alternateSearchTerms': []}, 'queryId': None, 'discoverSearchProductTypes': [], 'campaigns': {'imageTiles': [], 'promoBanners': [], 'sponsoredProducts': []}}\n"
          ]
        },
        {
          "data": {
            "text/plain": [
              "[204174721]"
            ]
          },
          "execution_count": 10,
          "metadata": {},
          "output_type": "execute_result"
        }
      ],
      "source": [
        "def get_look(id):\n",
        "    url = f'https://www.asos.com/api/product/search/v2/buythelook/{id}?store=DE&currency=EUR&lang=de-DE'\n",
        "    response = get_page(url)\n",
        "    print(response)\n",
        "    return response\n",
        "\n",
        "look = get_look(205236073)\n",
        "ids = get_dict_list_values(look['products'], 'id')\n",
        "ids"
      ]
    },
    {
      "cell_type": "code",
      "execution_count": 30,
      "metadata": {
        "colab": {
          "base_uri": "https://localhost:8080/"
        },
        "id": "ekcXbDWAkH10",
        "outputId": "1fa727cc-cfba-458b-c894-83de8f2a611e"
      },
      "outputs": [
        {
          "name": "stdout",
          "output_type": "stream",
          "text": [
            "searchTerm\n",
            "categoryName\n",
            "itemCount\n",
            "redirectUrl\n",
            "products\n",
            "facets\n",
            "diagnostics\n",
            "searchPassMeta\n",
            "queryId\n",
            "discoverSearchProductTypes\n",
            "campaigns\n"
          ]
        }
      ],
      "source": [
        "for k in response['pr']:\n",
        "  print(k)\n",
        "# searchTerm\n",
        "# categoryName\n",
        "# itemCount\n",
        "# redirectUrl\n",
        "# products\n",
        "# facets\n",
        "# diagnostics\n",
        "# searchPassMeta\n",
        "# queryId\n",
        "# discoverSearchProductTypes\n",
        "# campaigns\n",
        "# print(response)"
      ]
    },
    {
      "cell_type": "code",
      "execution_count": null,
      "metadata": {
        "colab": {
          "base_uri": "https://localhost:8080/"
        },
        "id": "mrYYILJ4kEVU",
        "outputId": "8de6a1f9-e5cf-4f83-d258-0c363cf7d718"
      },
      "outputs": [
        {
          "name": "stdout",
          "output_type": "stream",
          "text": [
            "searchTerm\n",
            "categoryName\n",
            "itemCount\n",
            "redirectUrl\n",
            "products\n",
            "facets\n",
            "diagnostics\n",
            "searchPassMeta\n",
            "queryId\n",
            "discoverSearchProductTypes\n",
            "campaigns\n"
          ]
        }
      ],
      "source": [
        "for key in response:\n",
        "  print(key)"
      ]
    }
  ],
  "metadata": {
    "accelerator": "GPU",
    "colab": {
      "authorship_tag": "ABX9TyNqLWjDvzERExHyu07ZdMJG",
      "include_colab_link": true,
      "provenance": []
    },
    "gpuClass": "standard",
    "kernelspec": {
      "display_name": "Python 3",
      "name": "python3"
    },
    "language_info": {
      "codemirror_mode": {
        "name": "ipython",
        "version": 3
      },
      "file_extension": ".py",
      "mimetype": "text/x-python",
      "name": "python",
      "nbconvert_exporter": "python",
      "pygments_lexer": "ipython3",
      "version": "3.10.6"
    }
  },
  "nbformat": 4,
  "nbformat_minor": 0
}
