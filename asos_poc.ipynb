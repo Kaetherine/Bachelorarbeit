{
  "cells": [
    {
      "attachments": {},
      "cell_type": "markdown",
      "metadata": {
        "colab_type": "text",
        "id": "view-in-github"
      },
      "source": [
        "<a href=\"https://colab.research.google.com/github/Kaetherine/Bachelorarbeit/blob/main/asos_poc.ipynb\" target=\"_parent\"><img src=\"https://colab.research.google.com/assets/colab-badge.svg\" alt=\"Open In Colab\"/></a>"
      ]
    },
    {
      "cell_type": "code",
      "execution_count": 1,
      "metadata": {
        "id": "8vSu1KPbOCMq"
      },
      "outputs": [],
      "source": [
        "import requests\n",
        "import json"
      ]
    },
    {
      "cell_type": "code",
      "execution_count": 2,
      "metadata": {},
      "outputs": [],
      "source": [
        "items_url = 'https://www.asos.com/api/product/search/v2/categories/2623?offset=0&store=DE&lang=de-DE&currency=EUR&rowlength=3&channel=desktop-web&country=DE&keyStoreDataversion=ornjx7v-36&limit=72&attribute_1047=8416'"
      ]
    },
    {
      "cell_type": "code",
      "execution_count": 3,
      "metadata": {},
      "outputs": [],
      "source": [
        "def get_page(url):\n",
        "    '''function to get the content of a specific url'''\n",
        "    response = requests.get(url)\n",
        "    response = json.loads(response.text)\n",
        "    return response\n",
        "\n",
        "items = get_page(items_url)"
      ]
    },
    {
      "cell_type": "code",
      "execution_count": 6,
      "metadata": {},
      "outputs": [],
      "source": [
        "def get_dict_list_values(dict_list, k):\n",
        "    '''function to get values of given key of a list of dictionaries'''\n",
        "    values = [product[k] for product in dict_list]\n",
        "    return values\n",
        "\n",
        "products_ids = get_dict_list_values(items['products'], 'id')"
      ]
    },
    {
      "cell_type": "code",
      "execution_count": null,
      "metadata": {},
      "outputs": [],
      "source": [
        "def get_item(id):\n",
        "    url = f'https://www.asos.com/api/product/search/v2/buythelook/{id}?store=DE&currency=EUR&lang=de-DE'\n",
        "    response = get_page(url)\n",
        "    return response"
      ]
    },
    {
      "cell_type": "code",
      "execution_count": 30,
      "metadata": {
        "colab": {
          "base_uri": "https://localhost:8080/"
        },
        "id": "ekcXbDWAkH10",
        "outputId": "1fa727cc-cfba-458b-c894-83de8f2a611e"
      },
      "outputs": [
        {
          "name": "stdout",
          "output_type": "stream",
          "text": [
            "searchTerm\n",
            "categoryName\n",
            "itemCount\n",
            "redirectUrl\n",
            "products\n",
            "facets\n",
            "diagnostics\n",
            "searchPassMeta\n",
            "queryId\n",
            "discoverSearchProductTypes\n",
            "campaigns\n"
          ]
        }
      ],
      "source": [
        "for k in response['pr']:\n",
        "  print(k)\n",
        "# searchTerm\n",
        "# categoryName\n",
        "# itemCount\n",
        "# redirectUrl\n",
        "# products\n",
        "# facets\n",
        "# diagnostics\n",
        "# searchPassMeta\n",
        "# queryId\n",
        "# discoverSearchProductTypes\n",
        "# campaigns\n",
        "# print(response)"
      ]
    },
    {
      "cell_type": "code",
      "execution_count": null,
      "metadata": {
        "colab": {
          "base_uri": "https://localhost:8080/"
        },
        "id": "mrYYILJ4kEVU",
        "outputId": "8de6a1f9-e5cf-4f83-d258-0c363cf7d718"
      },
      "outputs": [
        {
          "name": "stdout",
          "output_type": "stream",
          "text": [
            "searchTerm\n",
            "categoryName\n",
            "itemCount\n",
            "redirectUrl\n",
            "products\n",
            "facets\n",
            "diagnostics\n",
            "searchPassMeta\n",
            "queryId\n",
            "discoverSearchProductTypes\n",
            "campaigns\n"
          ]
        }
      ],
      "source": [
        "for key in response:\n",
        "  print(key)"
      ]
    }
  ],
  "metadata": {
    "accelerator": "GPU",
    "colab": {
      "authorship_tag": "ABX9TyNqLWjDvzERExHyu07ZdMJG",
      "include_colab_link": true,
      "provenance": []
    },
    "gpuClass": "standard",
    "kernelspec": {
      "display_name": "Python 3",
      "name": "python3"
    },
    "language_info": {
      "codemirror_mode": {
        "name": "ipython",
        "version": 3
      },
      "file_extension": ".py",
      "mimetype": "text/x-python",
      "name": "python",
      "nbconvert_exporter": "python",
      "pygments_lexer": "ipython3",
      "version": "3.10.6"
    }
  },
  "nbformat": 4,
  "nbformat_minor": 0
}
