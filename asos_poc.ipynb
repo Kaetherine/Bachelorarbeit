{
  "cells": [
    {
      "attachments": {},
      "cell_type": "markdown",
      "metadata": {
        "colab_type": "text",
        "id": "view-in-github"
      },
      "source": [
        "<a href=\"https://colab.research.google.com/github/Kaetherine/Bachelorarbeit/blob/main/asos_poc.ipynb\" target=\"_parent\"><img src=\"https://colab.research.google.com/assets/colab-badge.svg\" alt=\"Open In Colab\"/></a>"
      ]
    },
    {
      "cell_type": "code",
      "execution_count": null,
      "metadata": {
        "id": "8vSu1KPbOCMq"
      },
      "outputs": [
        {
          "ename": "",
          "evalue": "",
          "output_type": "error",
          "traceback": [
            "\u001b[1;31mRunning cells with 'bachelorarbeit' requires the ipykernel package.\n",
            "\u001b[1;31mRun the following command to install 'ipykernel' into the Python environment. \n",
            "\u001b[1;31mCommand: 'conda install -n bachelorarbeit ipykernel --update-deps --force-reinstall'"
          ]
        }
      ],
      "source": [
        "import requests\n",
        "import json"
      ]
    },
    {
      "cell_type": "code",
      "execution_count": 46,
      "metadata": {
        "colab": {
          "base_uri": "https://localhost:8080/"
        },
        "id": "r-236IjCPIzD",
        "outputId": "b417c921-4b75-4e37-f1b3-0f015630c161"
      },
      "outputs": [
        {
          "name": "stdout",
          "output_type": "stream",
          "text": [
            "<Response [200]>\n"
          ]
        }
      ],
      "source": [
        "# url = 'https://www.asos.com/api/product/search/v2/categories/20553?offset=0&store=DE&lang=de-DE&currency=EUR&rowlength=3&channel=desktop-web&country=DE&keyStoreDataversion=ornjx7v-36&limit=72&base_colour=3'\n",
        "itemlist_url = 'https://www.asos.com/api/product/search/v2/categories/2623?offset=0&store=DE&lang=de-DE&currency=EUR&rowlength=3&channel=desktop-web&country=DE&keyStoreDataversion=ornjx7v-36&limit=72&attribute_1047=8416'\n",
        "single_item_url = 'https://www.asos.com/api/product/search/v2/buythelook/204189058?store=DE&currency=EUR&lang=de-DE'\n",
        "# 204\n",
        "response = requests.get(single_item_url)\n",
        "print(response)"
      ]
    },
    {
      "cell_type": "code",
      "execution_count": 47,
      "metadata": {
        "colab": {
          "base_uri": "https://localhost:8080/"
        },
        "id": "vCwzJVzrlRjz",
        "outputId": "c8d6c023-0f37-4f86-aef4-5999213766fb"
      },
      "outputs": [
        {
          "name": "stdout",
          "output_type": "stream",
          "text": [
            "{'searchTerm': '204189058', 'categoryName': None, 'itemCount': 1, 'redirectUrl': '', 'products': [{'id': 202607250, 'name': 'ASOS DESIGN – Nobu – Riemchen-Sandaletten in Gold mit Beinschnürung', 'price': {'current': {'value': 33.99, 'text': '33,99 €'}, 'previous': {'value': None, 'text': ''}, 'rrp': {'value': None, 'text': ''}, 'isMarkedDown': False, 'isOutletPrice': False, 'currency': 'EUR'}, 'colour': 'GOLD\\xa0', 'colourWayId': 202607263, 'brandName': 'ASOS DESIGN', 'hasVariantColours': False, 'hasMultiplePrices': False, 'groupId': None, 'productCode': 117683416, 'productType': 'Product', 'url': 'asos-design/asos-design-nobu-riemchen-sandaletten-in-gold-mit-beinschnurung/prd/202607250?clr=gold&colourWayId=202607263', 'imageUrl': 'https://images.asos-media.com/products/asos-design-nobu-riemchen-sandaletten-in-gold-mit-beinschnurung/202607250-1-gold', 'videoUrl': None, 'isSellingFast': True, 'sponsoredCampaignId': None, 'facetGroupings': [{'products': [{'productId': 202101116}, {'productId': 202101075}, {'productId': 202607250}, {'productId': 202936934}], 'type': 'SupplierColour'}], 'advertisement': None}], 'facets': [], 'diagnostics': {'requestId': '2bf2b7d9-5b54-403e-bf0d-842fb56bf1ef', 'processingTime': 582, 'queryTime': 22, 'recommendationsEnabled': False, 'recommendationsAnalytics': {'personalisationStatus': 4, 'numberOfItems': 0, 'numberOfRecs': 0, 'personalisationType': '', 'experimentTrackerkey': None, 'items': []}, 'advertisementsEnabled': False, 'advertisementsAnalytics': {'status': 0, 'customerOptIn': False, 'numberOfItemsFromPartner': 0, 'items': [], 'itemsFromPartner': [], 'placementBeacons': None}}, 'searchPassMeta': {'isPartial': False, 'isSpellcheck': False, 'searchPass': [], 'alternateSearchTerms': []}, 'queryId': None, 'discoverSearchProductTypes': [], 'campaigns': {'imageTiles': [], 'promoBanners': [], 'sponsoredProducts': []}}\n"
          ]
        }
      ],
      "source": [
        "response = json.loads(response.text)\n",
        "print(response)"
      ]
    },
    {
      "cell_type": "code",
      "execution_count": 30,
      "metadata": {
        "colab": {
          "base_uri": "https://localhost:8080/"
        },
        "id": "ekcXbDWAkH10",
        "outputId": "1fa727cc-cfba-458b-c894-83de8f2a611e"
      },
      "outputs": [
        {
          "name": "stdout",
          "output_type": "stream",
          "text": [
            "searchTerm\n",
            "categoryName\n",
            "itemCount\n",
            "redirectUrl\n",
            "products\n",
            "facets\n",
            "diagnostics\n",
            "searchPassMeta\n",
            "queryId\n",
            "discoverSearchProductTypes\n",
            "campaigns\n"
          ]
        }
      ],
      "source": [
        "for k in response['pr']:\n",
        "  print(k)\n",
        "# searchTerm\n",
        "# categoryName\n",
        "# itemCount\n",
        "# redirectUrl\n",
        "# products\n",
        "# facets\n",
        "# diagnostics\n",
        "# searchPassMeta\n",
        "# queryId\n",
        "# discoverSearchProductTypes\n",
        "# campaigns\n",
        "# print(response)"
      ]
    },
    {
      "cell_type": "code",
      "execution_count": null,
      "metadata": {
        "colab": {
          "base_uri": "https://localhost:8080/"
        },
        "id": "mrYYILJ4kEVU",
        "outputId": "8de6a1f9-e5cf-4f83-d258-0c363cf7d718"
      },
      "outputs": [
        {
          "name": "stdout",
          "output_type": "stream",
          "text": [
            "searchTerm\n",
            "categoryName\n",
            "itemCount\n",
            "redirectUrl\n",
            "products\n",
            "facets\n",
            "diagnostics\n",
            "searchPassMeta\n",
            "queryId\n",
            "discoverSearchProductTypes\n",
            "campaigns\n"
          ]
        }
      ],
      "source": [
        "for key in response:\n",
        "  print(key)"
      ]
    }
  ],
  "metadata": {
    "accelerator": "GPU",
    "colab": {
      "authorship_tag": "ABX9TyNqLWjDvzERExHyu07ZdMJG",
      "include_colab_link": true,
      "provenance": []
    },
    "gpuClass": "standard",
    "kernelspec": {
      "display_name": "Python 3",
      "name": "python3"
    },
    "language_info": {
      "name": "python",
      "version": "3.9.16"
    }
  },
  "nbformat": 4,
  "nbformat_minor": 0
}
